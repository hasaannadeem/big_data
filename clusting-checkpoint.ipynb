{
 "cells": [
  {
   "cell_type": "code",
   "execution_count": 20,
   "metadata": {},
   "outputs": [
    {
     "name": "stdout",
     "output_type": "stream",
     "text": [
      "[['1', '48.14637244', '17.4178671'], ['2', '43.6319871', '25.81785236'], ['3', '6.934521372', '23.85573163'], ['4', '27.33836151', '40.58221376'], ['5', '20.39305836', '44.81548343'], ['6', '18.69254509', '3.239161951'], ['7', '15.51348496', '45.79706095'], ['8', '21.91374752', '19.07159524'], ['9', '49.9831128', '31.13422557'], ['10', '1.845034883', '45.39394299'], ['11', '9.734965131', '45.89278133'], ['12', '11.07850515', '6.026680426'], ['13', '37.79282082', '31.28758926'], ['14', '29.76543752', '20.20522771'], ['15', '35.73305842', '30.64363736'], ['16', '32.69970185', '2.955709005'], ['17', '37.28702276', '34.04169345'], ['18', '5.227639068', '36.41523999'], ['19', '17.79172892', '12.01855338'], ['20', '28.03267972', '14.68564131']]\n",
      "after conversion\n",
      "[[1.0, 48.14637244, 17.4178671], [2.0, 43.6319871, 25.81785236], [3.0, 6.934521372, 23.85573163], [4.0, 27.33836151, 40.58221376], [5.0, 20.39305836, 44.81548343], [6.0, 18.69254509, 3.239161951], [7.0, 15.51348496, 45.79706095], [8.0, 21.91374752, 19.07159524], [9.0, 49.9831128, 31.13422557], [10.0, 1.845034883, 45.39394299], [11.0, 9.734965131, 45.89278133], [12.0, 11.07850515, 6.026680426], [13.0, 37.79282082, 31.28758926], [14.0, 29.76543752, 20.20522771], [15.0, 35.73305842, 30.64363736], [16.0, 32.69970185, 2.955709005], [17.0, 37.28702276, 34.04169345], [18.0, 5.227639068, 36.41523999], [19.0, 17.79172892, 12.01855338], [20.0, 28.03267972, 14.68564131]]\n"
     ]
    },
    {
     "ename": "NameError",
     "evalue": "name 'dd' is not defined",
     "output_type": "error",
     "traceback": [
      "\u001b[1;31m---------------------------------------------------------------------------\u001b[0m",
      "\u001b[1;31mNameError\u001b[0m                                 Traceback (most recent call last)",
      "\u001b[1;32m<ipython-input-20-dd7001ce9f05>\u001b[0m in \u001b[0;36m<module>\u001b[1;34m\u001b[0m\n\u001b[0;32m     22\u001b[0m \u001b[1;33m\u001b[0m\u001b[0m\n\u001b[0;32m     23\u001b[0m \u001b[1;32mfor\u001b[0m \u001b[0mi\u001b[0m \u001b[1;32min\u001b[0m \u001b[0mrange\u001b[0m\u001b[1;33m(\u001b[0m\u001b[0ml\u001b[0m\u001b[1;33m)\u001b[0m\u001b[1;33m:\u001b[0m\u001b[1;33m\u001b[0m\u001b[1;33m\u001b[0m\u001b[0m\n\u001b[1;32m---> 24\u001b[1;33m     \u001b[0mddd4\u001b[0m\u001b[1;33m=\u001b[0m\u001b[0mdd\u001b[0m\u001b[1;33m(\u001b[0m\u001b[0mlist1\u001b[0m\u001b[1;33m[\u001b[0m\u001b[1;36m3\u001b[0m\u001b[1;33m]\u001b[0m\u001b[1;33m[\u001b[0m\u001b[1;36m1\u001b[0m\u001b[1;33m]\u001b[0m\u001b[1;33m,\u001b[0m\u001b[0mlist1\u001b[0m\u001b[1;33m[\u001b[0m\u001b[1;36m3\u001b[0m\u001b[1;33m]\u001b[0m\u001b[1;33m[\u001b[0m\u001b[1;36m2\u001b[0m\u001b[1;33m]\u001b[0m\u001b[1;33m,\u001b[0m\u001b[0mlist1\u001b[0m\u001b[1;33m[\u001b[0m\u001b[0mi\u001b[0m\u001b[1;33m]\u001b[0m\u001b[1;33m[\u001b[0m\u001b[1;36m1\u001b[0m\u001b[1;33m]\u001b[0m\u001b[1;33m,\u001b[0m\u001b[0mlist\u001b[0m\u001b[1;33m[\u001b[0m\u001b[0mi\u001b[0m\u001b[1;33m]\u001b[0m\u001b[1;33m[\u001b[0m\u001b[1;36m2\u001b[0m\u001b[1;33m]\u001b[0m\u001b[1;33m)\u001b[0m\u001b[1;33m\u001b[0m\u001b[1;33m\u001b[0m\u001b[0m\n\u001b[0m\u001b[0;32m     25\u001b[0m     \u001b[0mddd8\u001b[0m\u001b[1;33m=\u001b[0m\u001b[0mdd\u001b[0m\u001b[1;33m(\u001b[0m\u001b[0mlist1\u001b[0m\u001b[1;33m[\u001b[0m\u001b[1;36m7\u001b[0m\u001b[1;33m]\u001b[0m\u001b[1;33m[\u001b[0m\u001b[1;36m1\u001b[0m\u001b[1;33m]\u001b[0m\u001b[1;33m,\u001b[0m\u001b[0mlist1\u001b[0m\u001b[1;33m[\u001b[0m\u001b[1;36m7\u001b[0m\u001b[1;33m]\u001b[0m\u001b[1;33m[\u001b[0m\u001b[1;36m2\u001b[0m\u001b[1;33m]\u001b[0m\u001b[1;33m,\u001b[0m\u001b[0mlist1\u001b[0m\u001b[1;33m[\u001b[0m\u001b[0mi\u001b[0m\u001b[1;33m]\u001b[0m\u001b[1;33m[\u001b[0m\u001b[1;36m1\u001b[0m\u001b[1;33m]\u001b[0m\u001b[1;33m,\u001b[0m\u001b[0mlist\u001b[0m\u001b[1;33m[\u001b[0m\u001b[0mi\u001b[0m\u001b[1;33m]\u001b[0m\u001b[1;33m[\u001b[0m\u001b[1;36m2\u001b[0m\u001b[1;33m]\u001b[0m\u001b[1;33m)\u001b[0m\u001b[1;33m\u001b[0m\u001b[1;33m\u001b[0m\u001b[0m\n\u001b[0;32m     26\u001b[0m     \u001b[1;32mif\u001b[0m\u001b[1;33m(\u001b[0m\u001b[0mdd4\u001b[0m\u001b[1;33m>\u001b[0m\u001b[0mdd8\u001b[0m\u001b[1;33m)\u001b[0m\u001b[1;33m:\u001b[0m\u001b[1;33m\u001b[0m\u001b[1;33m\u001b[0m\u001b[0m\n",
      "\u001b[1;31mNameError\u001b[0m: name 'dd' is not defined"
     ]
    }
   ],
   "source": [
    "\n",
    "with open(\"points.csv\",'r') as p:\n",
    "    reader=csv.reader(p)\n",
    "    your_list=list(reader)\n",
    "print(your_list)\n",
    "l=len(your_list)\n",
    "list1=[]\n",
    "for i in range(l):\n",
    "    a=[]\n",
    "    for j in range(3):\n",
    "        a.append(float(your_list[i][j]))\n",
    "    list1.append(a)\n",
    "print(\"after conversion\")\n",
    "print(list1)\n",
    "\n",
    "lst11=[]\n",
    "lst=['0','0','0','a']\n",
    "\n",
    "import math  \n",
    "def dd(x1,x2,y1,y2):  \n",
    "     dist = math.sqrt((x2 - x1)**2 + (y2 - y1)**2)  \n",
    "     return dist  \n",
    "\n",
    "for i in range(l):\n",
    "    ddd4=dd(list1[3][1],list1[3][2],list1[i][1],list[i][2])\n",
    "    ddd8=dd(list1[7][1],list1[7][2],list1[i][1],list[i][2])\n",
    "    if(dd4>dd8):\n",
    "        lst[0]=i\n",
    "        lst[1]=list1[3][1]\n",
    "        lst[2]=list1[3][2]\n",
    "        lst=\"AA\"\n",
    "    elif(dd4<dd8):\n",
    "        lst[0]=i\n",
    "        lst[1]=list1[3][1]\n",
    "        lst[2]=list1[3][2]\n",
    "        lst=\"BB\"\n",
    "    lst11.append(lst)\n",
    "    \n",
    "for i in range(l):\n",
    "    print(lst11[i])\n",
    "\n"
   ]
  },
  {
   "cell_type": "code",
   "execution_count": null,
   "metadata": {},
   "outputs": [],
   "source": []
  },
  {
   "cell_type": "code",
   "execution_count": null,
   "metadata": {},
   "outputs": [],
   "source": []
  },
  {
   "cell_type": "code",
   "execution_count": null,
   "metadata": {},
   "outputs": [],
   "source": []
  }
 ],
 "metadata": {
  "kernelspec": {
   "display_name": "Python 3",
   "language": "python",
   "name": "python3"
  },
  "language_info": {
   "codemirror_mode": {
    "name": "ipython",
    "version": 3
   },
   "file_extension": ".py",
   "mimetype": "text/x-python",
   "name": "python",
   "nbconvert_exporter": "python",
   "pygments_lexer": "ipython3",
   "version": "3.7.4"
  }
 },
 "nbformat": 4,
 "nbformat_minor": 2
}

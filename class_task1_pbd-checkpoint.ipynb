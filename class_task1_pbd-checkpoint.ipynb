{
 "cells": [
  {
   "cell_type": "markdown",
   "metadata": {},
   "source": [
    "# Class Tasks"
   ]
  },
  {
   "cell_type": "markdown",
   "metadata": {},
   "source": [
    "<font color='red' size =\"5\"> Write a Python program that takes a positive integer and returns the sum of the cube of all the positive integers smaller than the specified number.</font> "
   ]
  },
  {
   "cell_type": "code",
   "execution_count": null,
   "metadata": {},
   "outputs": [],
   "source": []
  },
  {
   "cell_type": "markdown",
   "metadata": {},
   "source": [
    "<font color='red' size =\"5\">Write a Python program to check whether a number is divisible by another number. Accept two integers values form the user. </font> "
   ]
  },
  {
   "cell_type": "code",
   "execution_count": null,
   "metadata": {},
   "outputs": [],
   "source": []
  },
  {
   "cell_type": "markdown",
   "metadata": {},
   "source": [
    "<font color='red' size =\"5\"> Write a C++ program which asks the user several Y/N questions and selects a car for them based on their answers. We (Rent-a-Car) have7 Porsche,5 Yukon,10 Civic,12 Villager,9 Explorer, and5 Sentra cars.The questions are:\n",
    "    1.  do you have children;\n",
    "    2.  do you have lots of money;\n",
    "    3.  do you like trucks.\n",
    "    The car selection should be based on the following:\n",
    "    1.Porsche:have no children, have lots of money, don’t like trucks.\n",
    "    2.Yukon:have no children, have lots of money, like trucks.\n",
    "    3.Civic:have no children, have little money.\n",
    "    4.Villager: have children, have lots of money, don’t like trucks.\n",
    "    5.Explorer:have children, have lots of money, like trucks\n",
    "    6.Sentra:have children,have little money.\n",
    "    The program should continue for the above scenario until Rent-a-Cars has sufficient supply \n",
    "</font> "
   ]
  },
  {
   "cell_type": "code",
   "execution_count": null,
   "metadata": {},
   "outputs": [],
   "source": []
  },
  {
   "cell_type": "markdown",
   "metadata": {},
   "source": [
    "<font color='red' size =\"5\">  Write a program that asks the user to enter today’s sales rounded to the nearest \\\\$100 for each of three stores. The program should then display a bar graphcomparing each store’s sales. Create each bar in the graph by displaying a row of asterisks. Each asterisk should represent \\\\$100 of sales.\n",
    "\n",
    "Here is an example of the program’s output. User input is shown in bold.\n",
    "1.  Enter today’s sales for store 1:990[Enter]\n",
    "2.  Enter today’s sales for store 2:1150[Enter]\n",
    "3.  Enter today’s sales for store 3:910[Enter]\n",
    "DAILY SALES (each *=$100)\n",
    "Store 2: ************\n",
    "Store 1: **********\n",
    "Store 3: *********\n",
    "\n",
    "</font>\n",
    "\n",
    "Input Validation: Do not accept sales figures less than $0.00"
   ]
  },
  {
   "cell_type": "code",
   "execution_count": null,
   "metadata": {},
   "outputs": [],
   "source": []
  },
  {
   "cell_type": "markdown",
   "metadata": {},
   "source": []
  },
  {
   "cell_type": "code",
   "execution_count": null,
   "metadata": {},
   "outputs": [],
   "source": []
  }
 ],
 "metadata": {
  "kernelspec": {
   "display_name": "Python 3",
   "language": "python",
   "name": "python3"
  },
  "language_info": {
   "codemirror_mode": {
    "name": "ipython",
    "version": 3
   },
   "file_extension": ".py",
   "mimetype": "text/x-python",
   "name": "python",
   "nbconvert_exporter": "python",
   "pygments_lexer": "ipython3",
   "version": "3.7.4"
  }
 },
 "nbformat": 4,
 "nbformat_minor": 2
}

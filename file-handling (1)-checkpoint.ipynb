{
 "cells": [
  {
   "cell_type": "markdown",
   "metadata": {},
   "source": [
    "## Complete the following tasks"
   ]
  },
  {
   "cell_type": "markdown",
   "metadata": {},
   "source": [
    "Write a Python program to read the file 'lorem_ipsum' line by line and store each line into a list and create a list of lists.\n",
    "\n",
    "Note: There should not be new line characters in the read strings(in all the tasks)."
   ]
  },
  {
   "cell_type": "code",
   "execution_count": 3,
   "metadata": {
    "scrolled": true
   },
   "outputs": [
    {
     "name": "stdout",
     "output_type": "stream",
     "text": [
      "['Lorem ipsum dolor sit amet, consectetur adipiscing elit, sed do eiusmod tempor incididunt ut labore et dolore magna aliqua.', 'Ut enim ad minim veniam, quis nostrud exercitation ullamco laboris nisi ut aliquip ex ea commodo consequat.', 'Duis aute irure dolor in reprehenderit in voluptate velit esse cillum dolore eu fugiat nulla pariatur.', 'Excepteur sint occaecat cupidatat non proident, sunt in culpa qui officia deserunt mollit anim id est laborum.']\n"
     ]
    }
   ],
   "source": [
    "places = []\n",
    "\n",
    "with open('D:\\lorem_ipsum', 'r') as filehandle:\n",
    "    for line in filehandle:\n",
    "        currentPlace = line[:-1]\n",
    "        places.append(currentPlace)\n",
    "print(places)"
   ]
  },
  {
   "cell_type": "markdown",
   "metadata": {},
   "source": [
    "Write a program to read 2 vectors, one from each file('vec1' and 'vec2'), sum them up and divide the resultant vector with the min number in the first column and the multiply with max number in the second the column.Then take the avarage and store it in a separate file."
   ]
  },
  {
   "cell_type": "code",
   "execution_count": 29,
   "metadata": {},
   "outputs": [
    {
     "ename": "SyntaxError",
     "evalue": "invalid character in identifier (<ipython-input-29-8c63d7416a34>, line 54)",
     "output_type": "error",
     "traceback": [
      "\u001b[1;36m  File \u001b[1;32m\"<ipython-input-29-8c63d7416a34>\"\u001b[1;36m, line \u001b[1;32m54\u001b[0m\n\u001b[1;33m    file = open(“asad.txt”, “w”)\u001b[0m\n\u001b[1;37m                    ^\u001b[0m\n\u001b[1;31mSyntaxError\u001b[0m\u001b[1;31m:\u001b[0m invalid character in identifier\n"
     ]
    }
   ],
   "source": [
    "v1 = []\n",
    "\n",
    "with open(\"D:\\hasaan\") as filehandle:\n",
    "    for line in filehandle:\n",
    "        currentPlace = line[:-1]\n",
    "        v1.append(int(currentPlace))\n",
    "print(v1)\n",
    "v2 = []\n",
    "\n",
    "with open(\"D:\\muneeb\") as filehandle:\n",
    "    for line in filehandle:\n",
    "        currentPlace = line[:-1]\n",
    "        v2.append(int(currentPlace))\n",
    "print(v2)\n",
    "res=[]\n",
    "for i in range(0,4):\n",
    "    a=v1[i]+v2[i]\n",
    "    res.append(a)\n",
    "print(res)\n",
    "a=v1[0]\n",
    "for i in range (0,3):\n",
    "    if a>v1[i+1]:\n",
    "        a=v1[i+1]\n",
    "print(\"minimum number of col1=\",a)\n",
    "b=v2[0]\n",
    "for i in range (0,3):\n",
    "    if b<v2[i+1]:\n",
    "        b=v2[i+1]\n",
    "print(\"maximum number of col2=\",b)\n",
    "\n",
    "r=[]\n",
    "for i in range(0,4):\n",
    "    d=v1[i]/a\n",
    "    r.append(d)\n",
    "print(r)\n",
    "r1=[]\n",
    "for i in range(0,4):\n",
    "    d=v2[i]*b\n",
    "    r1.append(d)\n",
    "print(r1)\n",
    "\n",
    "avg1=0\n",
    "for i in range(0,4):\n",
    "    avg1+=v1[i]\n",
    "    avg1=avg1/4\n",
    "print(avg1)\n",
    "\n",
    "avg2=0\n",
    "for i in range(0,4):\n",
    "    avg2+=v2[i]\n",
    "    avg2=avg2/4\n",
    "print(avg2)\n",
    "\n",
    "#file1 = open(“D:\\asad.txt”, “w”)\n",
    "\n",
    "#file1.write(str(avg1)) \n",
    "#file1.write(str(avg2))\n",
    "\n",
    "#file1.close()\n",
    "    \n",
    "\n",
    "       \n",
    "    \n",
    "    "
   ]
  },
  {
   "cell_type": "markdown",
   "metadata": {},
   "source": [
    "Write a program to read the student data from the 'biology_class' file and store it in a dictionary. Refer to the file 'labels' for the column information. The keys will be same as the column names except for date. I want you to sepate the date into day, month, year and store the date into these three keys in the dictionary rather than a single key.\n",
    "\n",
    "Hint: You can map a key to a list"
   ]
  },
  {
   "cell_type": "code",
   "execution_count": 26,
   "metadata": {},
   "outputs": [
    {
     "name": "stdout",
     "output_type": "stream",
     "text": [
      "['fname,lname,subject,date,marks']\n"
     ]
    }
   ],
   "source": [
    "places = []\n",
    "\n",
    "with open('D:\\labels', 'r') as filehandle:\n",
    "    for line in filehandle:\n",
    "        currentPlace = line[:-1]\n",
    "        places.append(currentPlace)\n",
    "print(places)"
   ]
  },
  {
   "cell_type": "code",
   "execution_count": null,
   "metadata": {},
   "outputs": [],
   "source": []
  }
 ],
 "metadata": {
  "kernelspec": {
   "display_name": "Python 3",
   "language": "python",
   "name": "python3"
  },
  "language_info": {
   "codemirror_mode": {
    "name": "ipython",
    "version": 3
   },
   "file_extension": ".py",
   "mimetype": "text/x-python",
   "name": "python",
   "nbconvert_exporter": "python",
   "pygments_lexer": "ipython3",
   "version": "3.7.4"
  }
 },
 "nbformat": 4,
 "nbformat_minor": 2
}
